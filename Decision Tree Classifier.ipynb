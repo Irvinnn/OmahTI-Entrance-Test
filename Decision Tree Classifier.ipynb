{
 "cells": [
  {
   "cell_type": "code",
   "execution_count": 1,
   "metadata": {},
   "outputs": [],
   "source": [
    "# mengimport Library yang di butuhkan\n",
    "from __future__ import print_function\n",
    "import numpy as np\n",
    "import pandas as pd\n",
    "import matplotlib.pylab as plt\n"
   ]
  },
  {
   "cell_type": "code",
   "execution_count": 2,
   "metadata": {},
   "outputs": [
    {
     "data": {
      "text/html": [
       "<div>\n",
       "<style scoped>\n",
       "    .dataframe tbody tr th:only-of-type {\n",
       "        vertical-align: middle;\n",
       "    }\n",
       "\n",
       "    .dataframe tbody tr th {\n",
       "        vertical-align: top;\n",
       "    }\n",
       "\n",
       "    .dataframe thead th {\n",
       "        text-align: right;\n",
       "    }\n",
       "</style>\n",
       "<table border=\"1\" class=\"dataframe\">\n",
       "  <thead>\n",
       "    <tr style=\"text-align: right;\">\n",
       "      <th></th>\n",
       "      <th>NISN</th>\n",
       "      <th>Nama</th>\n",
       "      <th>Umur</th>\n",
       "      <th>Kelas</th>\n",
       "      <th>Rerata UN</th>\n",
       "      <th>Rata­rata Nilai Sekolah</th>\n",
       "      <th>Hasil</th>\n",
       "    </tr>\n",
       "  </thead>\n",
       "  <tbody>\n",
       "    <tr>\n",
       "      <th>0</th>\n",
       "      <td>27786</td>\n",
       "      <td>Akbar</td>\n",
       "      <td>17</td>\n",
       "      <td>IPA 1</td>\n",
       "      <td>87</td>\n",
       "      <td>83</td>\n",
       "      <td>Lolos</td>\n",
       "    </tr>\n",
       "    <tr>\n",
       "      <th>1</th>\n",
       "      <td>38539</td>\n",
       "      <td>Opang</td>\n",
       "      <td>17</td>\n",
       "      <td>IPA 2</td>\n",
       "      <td>83</td>\n",
       "      <td>91</td>\n",
       "      <td>Lolos</td>\n",
       "    </tr>\n",
       "    <tr>\n",
       "      <th>2</th>\n",
       "      <td>47031</td>\n",
       "      <td>Erwan</td>\n",
       "      <td>18</td>\n",
       "      <td>IPA 2</td>\n",
       "      <td>91</td>\n",
       "      <td>84</td>\n",
       "      <td>Lolos</td>\n",
       "    </tr>\n",
       "    <tr>\n",
       "      <th>3</th>\n",
       "      <td>58624</td>\n",
       "      <td>Kaka</td>\n",
       "      <td>17</td>\n",
       "      <td>IPS 3</td>\n",
       "      <td>90</td>\n",
       "      <td>100</td>\n",
       "      <td>Lolos</td>\n",
       "    </tr>\n",
       "    <tr>\n",
       "      <th>4</th>\n",
       "      <td>68091</td>\n",
       "      <td>Cimo</td>\n",
       "      <td>17</td>\n",
       "      <td>IPS 4</td>\n",
       "      <td>82</td>\n",
       "      <td>75</td>\n",
       "      <td>Coba lagi</td>\n",
       "    </tr>\n",
       "  </tbody>\n",
       "</table>\n",
       "</div>"
      ],
      "text/plain": [
       "    NISN  Nama   Umur   Kelas  Rerata UN  Rata­rata Nilai Sekolah      Hasil\n",
       "0  27786  Akbar     17  IPA 1         87                       83      Lolos\n",
       "1  38539  Opang     17  IPA 2         83                       91      Lolos\n",
       "2  47031  Erwan     18  IPA 2         91                       84      Lolos\n",
       "3  58624   Kaka     17  IPS 3         90                      100      Lolos\n",
       "4  68091   Cimo     17  IPS 4         82                       75  Coba lagi"
      ]
     },
     "execution_count": 2,
     "metadata": {},
     "output_type": "execute_result"
    }
   ],
   "source": [
    "# mengimport dataset train \n",
    "dataset = pd.read_csv('Train1.csv',sep =';')\n",
    "dataset.head(5)"
   ]
  },
  {
   "cell_type": "code",
   "execution_count": 3,
   "metadata": {},
   "outputs": [
    {
     "data": {
      "text/html": [
       "<div>\n",
       "<style scoped>\n",
       "    .dataframe tbody tr th:only-of-type {\n",
       "        vertical-align: middle;\n",
       "    }\n",
       "\n",
       "    .dataframe tbody tr th {\n",
       "        vertical-align: top;\n",
       "    }\n",
       "\n",
       "    .dataframe thead th {\n",
       "        text-align: right;\n",
       "    }\n",
       "</style>\n",
       "<table border=\"1\" class=\"dataframe\">\n",
       "  <thead>\n",
       "    <tr style=\"text-align: right;\">\n",
       "      <th></th>\n",
       "      <th>Rerata UN</th>\n",
       "      <th>Rata­rata Nilai Sekolah</th>\n",
       "      <th>Hasil</th>\n",
       "    </tr>\n",
       "  </thead>\n",
       "  <tbody>\n",
       "    <tr>\n",
       "      <th>0</th>\n",
       "      <td>87</td>\n",
       "      <td>83</td>\n",
       "      <td>Lolos</td>\n",
       "    </tr>\n",
       "    <tr>\n",
       "      <th>1</th>\n",
       "      <td>83</td>\n",
       "      <td>91</td>\n",
       "      <td>Lolos</td>\n",
       "    </tr>\n",
       "    <tr>\n",
       "      <th>2</th>\n",
       "      <td>91</td>\n",
       "      <td>84</td>\n",
       "      <td>Lolos</td>\n",
       "    </tr>\n",
       "    <tr>\n",
       "      <th>3</th>\n",
       "      <td>90</td>\n",
       "      <td>100</td>\n",
       "      <td>Lolos</td>\n",
       "    </tr>\n",
       "    <tr>\n",
       "      <th>4</th>\n",
       "      <td>82</td>\n",
       "      <td>75</td>\n",
       "      <td>Coba lagi</td>\n",
       "    </tr>\n",
       "  </tbody>\n",
       "</table>\n",
       "</div>"
      ],
      "text/plain": [
       "   Rerata UN  Rata­rata Nilai Sekolah      Hasil\n",
       "0         87                       83      Lolos\n",
       "1         83                       91      Lolos\n",
       "2         91                       84      Lolos\n",
       "3         90                      100      Lolos\n",
       "4         82                       75  Coba lagi"
      ]
     },
     "execution_count": 3,
     "metadata": {},
     "output_type": "execute_result"
    }
   ],
   "source": [
    "# menghapus dan memilih data yang menjadi bahan pertimbangan data train\n",
    "dataset = dataset.drop(dataset.columns[0:4],axis = 1)\n",
    "dataset.head(5)"
   ]
  },
  {
   "cell_type": "code",
   "execution_count": 50,
   "metadata": {},
   "outputs": [
    {
     "data": {
      "text/plain": [
       "[[87, 83, 'Lolos'],\n",
       " [83, 91, 'Lolos'],\n",
       " [91, 84, 'Lolos'],\n",
       " [90, 100, 'Lolos'],\n",
       " [82, 75, 'Coba lagi'],\n",
       " [80, 78, 'Coba lagi'],\n",
       " [78, 77, 'Coba lagi'],\n",
       " [81, 72, 'Coba lagi'],\n",
       " [82, 72, 'Coba lagi'],\n",
       " [80, 84, 'Lolos'],\n",
       " [79, 91, 'Lolos'],\n",
       " [91, 79, 'Lolos'],\n",
       " [83, 75, 'Coba lagi'],\n",
       " [80, 75, 'Coba lagi'],\n",
       " [81, 77, 'Lolos'],\n",
       " [90, 88, 'Lolos'],\n",
       " [91, 91, 'Lolos'],\n",
       " [92, 87, 'Lolos'],\n",
       " [79, 96, 'Lolos'],\n",
       " [93, 84, 'Lolos'],\n",
       " [93, 71, 'Coba lagi'],\n",
       " [95, 84, 'Lolos'],\n",
       " [82, 97, 'Lolos'],\n",
       " [84, 84, 'Lolos'],\n",
       " [80, 78, 'Coba lagi'],\n",
       " [79, 96, 'Lolos'],\n",
       " [90, 81, 'Lolos'],\n",
       " [92, 95, 'Lolos']]"
      ]
     },
     "execution_count": 50,
     "metadata": {},
     "output_type": "execute_result"
    }
   ],
   "source": [
    "# merubah dataset ke dalam bentuk list\n",
    "training_data = dataset.values.tolist()\n",
    "training_data"
   ]
  },
  {
   "cell_type": "code",
   "execution_count": 5,
   "metadata": {},
   "outputs": [],
   "source": [
    "# memberi nama label dari kolom\n",
    "header = [\"Rerata UN\",\"Rata-rata Nilai Sekolah\",\"Hasil\"]"
   ]
  },
  {
   "cell_type": "code",
   "execution_count": 6,
   "metadata": {},
   "outputs": [],
   "source": [
    "# mencari value unik\n",
    "def unique_vals(rows, col):\n",
    "    return set([row[col] for row in rows])"
   ]
  },
  {
   "cell_type": "code",
   "execution_count": 7,
   "metadata": {},
   "outputs": [
    {
     "data": {
      "text/plain": [
       "{71, 72, 75, 77, 78, 79, 81, 83, 84, 87, 88, 91, 95, 96, 97, 100}"
      ]
     },
     "execution_count": 7,
     "metadata": {},
     "output_type": "execute_result"
    }
   ],
   "source": [
    "unique_vals(training_data, 1)"
   ]
  },
  {
   "cell_type": "code",
   "execution_count": 8,
   "metadata": {},
   "outputs": [],
   "source": [
    "# menghitung jumlah fitur dari sebuah dataset\n",
    "def class_counts(rows):\n",
    "    counts = {}  # deklarasi label ke count\n",
    "    for row in rows:\n",
    "        # label adalah kolom terakhir\n",
    "        label = row[-1]\n",
    "        if label not in counts:\n",
    "            counts[label] = 0\n",
    "        counts[label] += 1\n",
    "    return counts"
   ]
  },
  {
   "cell_type": "code",
   "execution_count": 9,
   "metadata": {},
   "outputs": [
    {
     "data": {
      "text/plain": [
       "{'Lolos': 19, 'Coba lagi': 9}"
      ]
     },
     "execution_count": 9,
     "metadata": {},
     "output_type": "execute_result"
    }
   ],
   "source": [
    "class_counts(training_data)"
   ]
  },
  {
   "cell_type": "code",
   "execution_count": 10,
   "metadata": {},
   "outputs": [],
   "source": [
    "# tes apakah numerik atau bukan\n",
    "def is_numeric(value):\n",
    "    return isinstance(value, int) or isinstance(value, float)"
   ]
  },
  {
   "cell_type": "code",
   "execution_count": 11,
   "metadata": {},
   "outputs": [
    {
     "data": {
      "text/plain": [
       "True"
      ]
     },
     "execution_count": 11,
     "metadata": {},
     "output_type": "execute_result"
    }
   ],
   "source": [
    "is_numeric(4)"
   ]
  },
  {
   "cell_type": "code",
   "execution_count": 12,
   "metadata": {},
   "outputs": [],
   "source": [
    "# function ini membuat sebuah pertanyaan digunakan untuk mempartisi dataset \n",
    "class Question:\n",
    "\n",
    "    def __init__(self, column, value): #digunakan untuk merecord column number dan value yang di tentukan user\n",
    "        self.column = column\n",
    "        self.value = value\n",
    "\n",
    "    def match(self, example):\n",
    "        # menentukan ketika value adalah numerik dan ketika fitur tidak berupa numerik\n",
    "        val = example[self.column]\n",
    "        if is_numeric(val):\n",
    "            return val >= self.value\n",
    "        else:\n",
    "            return val == self.value\n",
    "\n",
    "    def __repr__(self):\n",
    "        # This is just a helper method to print\n",
    "        # the question in a readable format.\n",
    "        condition = \"==\"\n",
    "        if is_numeric(self.value):\n",
    "            condition = \">=\"\n",
    "        return \"Is %s %s %s?\" % (\n",
    "            header[self.column], condition, str(self.value))"
   ]
  },
  {
   "cell_type": "code",
   "execution_count": 13,
   "metadata": {},
   "outputs": [
    {
     "data": {
      "text/plain": [
       "Is Rata-rata Nilai Sekolah >= 79?"
      ]
     },
     "execution_count": 13,
     "metadata": {},
     "output_type": "execute_result"
    }
   ],
   "source": [
    "#tes pertanyaan numerik\n",
    "Question(1, 79) "
   ]
  },
  {
   "cell_type": "code",
   "execution_count": 14,
   "metadata": {},
   "outputs": [
    {
     "data": {
      "text/plain": [
       "Is Rata-rata Nilai Sekolah >= 75?"
      ]
     },
     "execution_count": 14,
     "metadata": {},
     "output_type": "execute_result"
    }
   ],
   "source": [
    "q = Question(1, 75)\n",
    "q"
   ]
  },
  {
   "cell_type": "code",
   "execution_count": 15,
   "metadata": {},
   "outputs": [
    {
     "data": {
      "text/plain": [
       "True"
      ]
     },
     "execution_count": 15,
     "metadata": {},
     "output_type": "execute_result"
    }
   ],
   "source": [
    "# contoh\n",
    "example = training_data[0]\n",
    "q.match(example)\n",
    "# benar selama rata2 sekolah di atas 75"
   ]
  },
  {
   "cell_type": "code",
   "execution_count": 16,
   "metadata": {},
   "outputs": [],
   "source": [
    "def partition(rows, question):\n",
    "    #function partition menerima 2 input yaitu row list dan pertanyaan\n",
    "    #function akan menganalisa benar atau tidak dan akan di klasifikasikan ke masing-masing row\n",
    "    true_rows, false_rows = [], []\n",
    "    for row in rows:\n",
    "        if question.match(row):\n",
    "            true_rows.append(row)\n",
    "        else:\n",
    "            false_rows.append(row)\n",
    "    return true_rows, false_rows"
   ]
  },
  {
   "cell_type": "code",
   "execution_count": 59,
   "metadata": {},
   "outputs": [
    {
     "data": {
      "text/plain": [
       "[[87, 83, 'Lolos'],\n",
       " [83, 91, 'Lolos'],\n",
       " [91, 84, 'Lolos'],\n",
       " [90, 100, 'Lolos'],\n",
       " [80, 84, 'Lolos'],\n",
       " [79, 91, 'Lolos'],\n",
       " [91, 79, 'Lolos'],\n",
       " [81, 77, 'Lolos'],\n",
       " [90, 88, 'Lolos'],\n",
       " [91, 91, 'Lolos'],\n",
       " [92, 87, 'Lolos'],\n",
       " [79, 96, 'Lolos'],\n",
       " [93, 84, 'Lolos'],\n",
       " [95, 84, 'Lolos'],\n",
       " [82, 97, 'Lolos'],\n",
       " [84, 84, 'Lolos'],\n",
       " [79, 96, 'Lolos'],\n",
       " [90, 81, 'Lolos'],\n",
       " [92, 95, 'Lolos']]"
      ]
     },
     "execution_count": 59,
     "metadata": {},
     "output_type": "execute_result"
    }
   ],
   "source": [
    "true_rows, false_rows = partition(training_data, Question(2, 'Lolos'))\n",
    "true_rows"
   ]
  },
  {
   "cell_type": "code",
   "execution_count": 60,
   "metadata": {},
   "outputs": [
    {
     "data": {
      "text/plain": [
       "[[82, 75, 'Coba lagi'],\n",
       " [80, 78, 'Coba lagi'],\n",
       " [78, 77, 'Coba lagi'],\n",
       " [81, 72, 'Coba lagi'],\n",
       " [82, 72, 'Coba lagi'],\n",
       " [83, 75, 'Coba lagi'],\n",
       " [80, 75, 'Coba lagi'],\n",
       " [93, 71, 'Coba lagi'],\n",
       " [80, 78, 'Coba lagi']]"
      ]
     },
     "execution_count": 60,
     "metadata": {},
     "output_type": "execute_result"
    }
   ],
   "source": [
    "false_rows"
   ]
  },
  {
   "cell_type": "code",
   "execution_count": 61,
   "metadata": {},
   "outputs": [],
   "source": [
    "def gini(rows): #function ini digunakan untuk menghitung impurity\n",
    "    \n",
    "    counts = class_counts(rows)\n",
    "    impurity = 1\n",
    "    for lbl in counts:\n",
    "        prob_of_lbl = counts[lbl] / float(len(rows))\n",
    "        impurity -= prob_of_lbl**2\n",
    "    return impurity"
   ]
  },
  {
   "cell_type": "code",
   "execution_count": 80,
   "metadata": {},
   "outputs": [
    {
     "data": {
      "text/plain": [
       "0.5"
      ]
     },
     "execution_count": 80,
     "metadata": {},
     "output_type": "execute_result"
    }
   ],
   "source": [
    "# Contoh menentukan rasio dari mixing \n",
    "some_mixing = [[1],\n",
    "               [2]]\n",
    "gini(some_mixing)\n",
    "#hasil menjadi 0.5 dikarenakan adanya 50% salah penentuan"
   ]
  },
  {
   "cell_type": "code",
   "execution_count": 21,
   "metadata": {},
   "outputs": [],
   "source": [
    "# function ini menghasilkan information gain dari mengurangi impurity induk dan nodes nya\n",
    "def info_gain(left, right, current_uncertainty):\n",
    "    \n",
    "    p = float(len(left)) / (len(left) + len(right))\n",
    "    return current_uncertainty - p * gini(left) - (1 - p) * gini(right)"
   ]
  },
  {
   "cell_type": "code",
   "execution_count": 75,
   "metadata": {},
   "outputs": [
    {
     "data": {
      "text/plain": [
       "0.4362244897959182"
      ]
     },
     "execution_count": 75,
     "metadata": {},
     "output_type": "execute_result"
    }
   ],
   "source": [
    "# mengecek uncertainty dari data training kita\n",
    "current_uncertainty = gini(training_data)\n",
    "current_uncertainty"
   ]
  },
  {
   "cell_type": "code",
   "execution_count": 23,
   "metadata": {},
   "outputs": [
    {
     "data": {
      "text/plain": [
       "0.4362244897959182"
      ]
     },
     "execution_count": 23,
     "metadata": {},
     "output_type": "execute_result"
    }
   ],
   "source": [
    "# contoh dari information gain\n",
    "true_rows, false_rows = partition(training_data, Question(2, 'Lolos'))\n",
    "info_gain(true_rows, false_rows, current_uncertainty)"
   ]
  },
  {
   "cell_type": "code",
   "execution_count": 24,
   "metadata": {},
   "outputs": [
    {
     "data": {
      "text/plain": [
       "0.31934137291280135"
      ]
     },
     "execution_count": 24,
     "metadata": {},
     "output_type": "execute_result"
    }
   ],
   "source": [
    "# contoh dari information gain\n",
    "true_rows, false_rows = partition(training_data, Question(1, 80))\n",
    "info_gain(true_rows, false_rows, current_uncertainty)"
   ]
  },
  {
   "cell_type": "code",
   "execution_count": 25,
   "metadata": {},
   "outputs": [],
   "source": [
    "# function ini mencari pertanyaan yang paling sesuai untuk di gunakan dengan satu persatu menghitung information gain\n",
    "def find_best_split(rows):\n",
    "    best_gain = 0  # keep track of the best information gain\n",
    "    best_question = None  # keep train of the feature / value that produced it\n",
    "    current_uncertainty = gini(rows)\n",
    "    n_features = len(rows[0]) - 1  # banyak kolom \n",
    "\n",
    "    # disini kita akan melihat setiap value dari fitur tersebut kita akan menghasillan pertanyaan serta mempartisi data tersebut\n",
    "    # kita akan membuang pertanyaan yang gagal menghasilkan pecahan\n",
    "    for col in range(n_features):  # for each feature\n",
    "\n",
    "        values = set([row[col] for row in rows])  # unique values in the column\n",
    "\n",
    "        for val in values: \n",
    "\n",
    "            question = Question(col, val)\n",
    "\n",
    "            # splitting dataset\n",
    "            true_rows, false_rows = partition(rows, question)\n",
    "\n",
    "            # skip ketika datset tidak splittig\n",
    "            if len(true_rows) == 0 or len(false_rows) == 0:\n",
    "                continue\n",
    "\n",
    "            # Calculate the information gain from this split\n",
    "            gain = info_gain(true_rows, false_rows, current_uncertainty)\n",
    "\n",
    "            if gain >= best_gain:\n",
    "                best_gain, best_question = gain, question\n",
    "\n",
    "    return best_gain, best_question"
   ]
  },
  {
   "cell_type": "code",
   "execution_count": 26,
   "metadata": {},
   "outputs": [
    {
     "data": {
      "text/plain": [
       "Is Rata-rata Nilai Sekolah >= 79?"
      ]
     },
     "execution_count": 26,
     "metadata": {},
     "output_type": "execute_result"
    }
   ],
   "source": [
    "# contoh pertanyaan yang paling sesuai \n",
    "best_gain, best_question = find_best_split(training_data)\n",
    "best_question"
   ]
  },
  {
   "cell_type": "code",
   "execution_count": 27,
   "metadata": {},
   "outputs": [],
   "source": [
    "class Leaf: #leaf memuat dicionary dari data yang berhasil di olah\n",
    "\n",
    "\n",
    "    def __init__(self, rows):\n",
    "        self.predictions = class_counts(rows)"
   ]
  },
  {
   "cell_type": "code",
   "execution_count": 28,
   "metadata": {},
   "outputs": [],
   "source": [
    "# Decision Node menanyakan pertanyaan\n",
    "class Decision_Node:\n",
    "\n",
    "    def __init__(self,\n",
    "                 question,\n",
    "                 true_branch,\n",
    "                 false_branch):\n",
    "        self.question = question\n",
    "        self.true_branch = true_branch\n",
    "        self.false_branch = false_branch"
   ]
  },
  {
   "cell_type": "code",
   "execution_count": 29,
   "metadata": {},
   "outputs": [],
   "source": [
    "def build_tree(rows):\n",
    "\n",
    "\n",
    "    # disini kita akan mempartisi data dan memakai pertanyaan yang menghasilkan information dengan gain paling tinggi\n",
    "    gain, question = find_best_split(rows)\n",
    "\n",
    "\n",
    "    #ketika tidak ada lagi information gain, kita akan return leaf\n",
    "    if gain == 0:\n",
    "        return Leaf(rows)\n",
    "\n",
    "    # If we reach here, we have found a useful feature / value\n",
    "    # to partition on.\n",
    "    true_rows, false_rows = partition(rows, question)\n",
    "\n",
    "    # memangggil tree kembali untuk menambahkan node\n",
    "    true_branch = build_tree(true_rows)\n",
    "\n",
    "    # false juga akan menjadi leaf ketika tidak ada lagi gain yang bisa di dapatkan\n",
    "    false_branch = build_tree(false_rows)\n",
    "\n",
    "    # ketika selesai maka akan terbentuk decision node \n",
    "    return Decision_Node(question, true_branch, false_branch)"
   ]
  },
  {
   "cell_type": "code",
   "execution_count": 30,
   "metadata": {},
   "outputs": [],
   "source": [
    "def print_tree(node, spacing=\"\"):\n",
    "\n",
    "    # Base case: we've reached a leaf\n",
    "    if isinstance(node, Leaf):\n",
    "        print (spacing + \"Predict\", node.predictions)\n",
    "        return\n",
    "\n",
    "    # Print the question at this node\n",
    "    print (spacing + str(node.question))\n",
    "\n",
    "    # Call this function recursively on the true branch\n",
    "    print (spacing + '--> True:')\n",
    "    print_tree(node.true_branch, spacing + \"  \")\n",
    "\n",
    "    # Call this function recursively on the false branch\n",
    "    print (spacing + '--> False:')\n",
    "    print_tree(node.false_branch, spacing + \"  \")"
   ]
  },
  {
   "cell_type": "code",
   "execution_count": 31,
   "metadata": {},
   "outputs": [],
   "source": [
    "#ketika di panggil pertama kali tree ini akan menerima semua data training sebagai input\n",
    "my_tree = build_tree(training_data) "
   ]
  },
  {
   "cell_type": "code",
   "execution_count": 32,
   "metadata": {},
   "outputs": [
    {
     "name": "stdout",
     "output_type": "stream",
     "text": [
      "Is Rata-rata Nilai Sekolah >= 79?\n",
      "--> True:\n",
      "  Predict {'Lolos': 18}\n",
      "--> False:\n",
      "  Is Rata-rata Nilai Sekolah >= 77?\n",
      "  --> True:\n",
      "    Is Rerata UN >= 81?\n",
      "    --> True:\n",
      "      Predict {'Lolos': 1}\n",
      "    --> False:\n",
      "      Predict {'Coba lagi': 3}\n",
      "  --> False:\n",
      "    Predict {'Coba lagi': 6}\n"
     ]
    }
   ],
   "source": [
    "print_tree(my_tree)"
   ]
  },
  {
   "cell_type": "code",
   "execution_count": 33,
   "metadata": {},
   "outputs": [],
   "source": [
    "def classify(row, node):\n",
    "\n",
    "    # mencapai leaf\n",
    "    if isinstance(node, Leaf):\n",
    "        return node.predictions\n",
    "\n",
    "    #menentukan untuk ke arah true atau false branch\n",
    "    if node.question.match(row):\n",
    "        return classify(row, node.true_branch)\n",
    "    else:\n",
    "        return classify(row, node.false_branch)"
   ]
  },
  {
   "cell_type": "code",
   "execution_count": 34,
   "metadata": {},
   "outputs": [
    {
     "data": {
      "text/plain": [
       "{'Lolos': 18}"
      ]
     },
     "execution_count": 34,
     "metadata": {},
     "output_type": "execute_result"
    }
   ],
   "source": [
    "#contoh prediksi dari confidence teritinggi\n",
    "classify(training_data[0], my_tree)\n"
   ]
  },
  {
   "cell_type": "code",
   "execution_count": 35,
   "metadata": {},
   "outputs": [],
   "source": [
    "def print_leaf(counts):\n",
    "    total = sum(counts.values()) * 1.0\n",
    "    probs = {}\n",
    "    for lbl in counts.keys():\n",
    "        probs[lbl] = str(int(counts[lbl] / total * 100)) + \"%\"\n",
    "    return probs"
   ]
  },
  {
   "cell_type": "code",
   "execution_count": 36,
   "metadata": {},
   "outputs": [
    {
     "data": {
      "text/plain": [
       "{'Lolos': '100%'}"
      ]
     },
     "execution_count": 36,
     "metadata": {},
     "output_type": "execute_result"
    }
   ],
   "source": [
    "print_leaf(classify(training_data[0], my_tree))"
   ]
  },
  {
   "cell_type": "code",
   "execution_count": 37,
   "metadata": {},
   "outputs": [
    {
     "data": {
      "text/html": [
       "<div>\n",
       "<style scoped>\n",
       "    .dataframe tbody tr th:only-of-type {\n",
       "        vertical-align: middle;\n",
       "    }\n",
       "\n",
       "    .dataframe tbody tr th {\n",
       "        vertical-align: top;\n",
       "    }\n",
       "\n",
       "    .dataframe thead th {\n",
       "        text-align: right;\n",
       "    }\n",
       "</style>\n",
       "<table border=\"1\" class=\"dataframe\">\n",
       "  <thead>\n",
       "    <tr style=\"text-align: right;\">\n",
       "      <th></th>\n",
       "      <th>Rerata UN</th>\n",
       "      <th>Rerata Nilai Sekolah</th>\n",
       "      <th>Hasil</th>\n",
       "    </tr>\n",
       "  </thead>\n",
       "  <tbody>\n",
       "    <tr>\n",
       "      <th>0</th>\n",
       "      <td>80</td>\n",
       "      <td>94</td>\n",
       "      <td>?</td>\n",
       "    </tr>\n",
       "    <tr>\n",
       "      <th>1</th>\n",
       "      <td>70</td>\n",
       "      <td>97</td>\n",
       "      <td>?</td>\n",
       "    </tr>\n",
       "    <tr>\n",
       "      <th>2</th>\n",
       "      <td>84</td>\n",
       "      <td>77</td>\n",
       "      <td>?</td>\n",
       "    </tr>\n",
       "    <tr>\n",
       "      <th>3</th>\n",
       "      <td>90</td>\n",
       "      <td>89</td>\n",
       "      <td>?</td>\n",
       "    </tr>\n",
       "    <tr>\n",
       "      <th>4</th>\n",
       "      <td>92</td>\n",
       "      <td>92</td>\n",
       "      <td>?</td>\n",
       "    </tr>\n",
       "  </tbody>\n",
       "</table>\n",
       "</div>"
      ],
      "text/plain": [
       "   Rerata UN  Rerata Nilai Sekolah Hasil\n",
       "0         80                    94    ? \n",
       "1         70                    97    ? \n",
       "2         84                    77    ? \n",
       "3         90                    89    ? \n",
       "4         92                    92    ? "
      ]
     },
     "execution_count": 37,
     "metadata": {},
     "output_type": "execute_result"
    }
   ],
   "source": [
    "newset = pd.read_csv('Test1.csv',sep =';')\n",
    "newset = newset.drop(newset.columns[0:4],axis = 1)\n",
    "newset.head(5)"
   ]
  },
  {
   "cell_type": "code",
   "execution_count": 38,
   "metadata": {},
   "outputs": [
    {
     "name": "stdout",
     "output_type": "stream",
     "text": [
      "Actual: 94. Predicted: {'Lolos': '100%'}\n",
      "Actual: 97. Predicted: {'Lolos': '100%'}\n",
      "Actual: 77. Predicted: {'Lolos': '100%'}\n",
      "Actual: 89. Predicted: {'Lolos': '100%'}\n",
      "Actual: 92. Predicted: {'Lolos': '100%'}\n",
      "Actual: 81. Predicted: {'Lolos': '100%'}\n",
      "Actual: 92. Predicted: {'Lolos': '100%'}\n",
      "Actual: 78. Predicted: {'Coba lagi': '100%'}\n",
      "Actual: 78. Predicted: {'Lolos': '100%'}\n",
      "Actual: 95. Predicted: {'Lolos': '100%'}\n",
      "Actual: 83. Predicted: {'Lolos': '100%'}\n"
     ]
    }
   ],
   "source": [
    "testing_data = newset.values.tolist()\n",
    "for row in testing_data:\n",
    "    print (\"Actual: %s. Predicted: %s\" %\n",
    "           (row[1], print_leaf(classify(row, my_tree))))"
   ]
  }
 ],
 "metadata": {
  "kernelspec": {
   "display_name": "Python 3 (ipykernel)",
   "language": "python",
   "name": "python3"
  },
  "language_info": {
   "codemirror_mode": {
    "name": "ipython",
    "version": 3
   },
   "file_extension": ".py",
   "mimetype": "text/x-python",
   "name": "python",
   "nbconvert_exporter": "python",
   "pygments_lexer": "ipython3",
   "version": "3.9.7"
  }
 },
 "nbformat": 4,
 "nbformat_minor": 2
}
